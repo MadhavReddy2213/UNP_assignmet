{
  "nbformat": 4,
  "nbformat_minor": 0,
  "metadata": {
    "colab": {
      "name": "ASSIGNMENT-1.ipynb",
      "provenance": [],
      "authorship_tag": "ABX9TyMMkQJVef7P1mepR68qG1k0",
      "include_colab_link": true
    },
    "kernelspec": {
      "name": "python3",
      "display_name": "Python 3"
    },
    "language_info": {
      "name": "python"
    }
  },
  "cells": [
    {
      "cell_type": "markdown",
      "metadata": {
        "id": "view-in-github",
        "colab_type": "text"
      },
      "source": [
        "<a href=\"https://colab.research.google.com/github/MadhavReddy2213/UNP_assignmet/blob/main/ASSIGNMENT_1.ipynb\" target=\"_parent\"><img src=\"https://colab.research.google.com/assets/colab-badge.svg\" alt=\"Open In Colab\"/></a>"
      ]
    },
    {
      "cell_type": "markdown",
      "source": [
        "Your friend measures his body temperature using a thermometer and finds the\n",
        "reading to be 100 degree Farenheit. Can you please let us know the reading in Celsius scale?"
      ],
      "metadata": {
        "id": "C4HgapPu6wF3"
      }
    },
    {
      "cell_type": "code",
      "source": [
        "#far= farenheit\n",
        "#cel=celsius\n",
        "far=100\n",
        "Cel = (5/9) * (far - 32)\n",
        "print(Cel)"
      ],
      "metadata": {
        "colab": {
          "base_uri": "https://localhost:8080/"
        },
        "id": "Ttag64X46zxE",
        "outputId": "7341dc51-14e1-43ae-f2f1-d87794401fc1"
      },
      "execution_count": null,
      "outputs": [
        {
          "output_type": "stream",
          "name": "stdout",
          "text": [
            "37.77777777777778\n"
          ]
        }
      ]
    },
    {
      "cell_type": "markdown",
      "source": [
        "The cost of producing x unit of item in a factory is y. Cost y is related\n",
        "to unit x by the following formula\n",
        "y= ax^2+bx+c where\n",
        "a, b, c are constants having value 2, 5, 1020 respectively.\n",
        "In this text (not in python language) ^ represents raised to the power.\n",
        "If management wants to produce 10,000 quantities of product, please let us know\n",
        "the average manufacturing cost for a single item."
      ],
      "metadata": {
        "id": "51989b-t67cI"
      }
    },
    {
      "cell_type": "code",
      "source": [
        "x=10000\n",
        "a=2\n",
        "b=5\n",
        "c=1020\n",
        "y=(a*(x**2))+(b*x)+c\n",
        "z=y/x\n",
        "print(z)"
      ],
      "metadata": {
        "id": "TkBdSw_n68M7",
        "outputId": "a81b5a91-b6d8-4769-d51e-8b920e787f0c",
        "colab": {
          "base_uri": "https://localhost:8080/"
        }
      },
      "execution_count": null,
      "outputs": [
        {
          "output_type": "stream",
          "name": "stdout",
          "text": [
            "20005.102\n"
          ]
        }
      ]
    }
  ]
}