{
  "nbformat": 4,
  "nbformat_minor": 0,
  "metadata": {
    "colab": {
      "name": "ASSIGNMENT-2.ipynb",
      "provenance": [],
      "authorship_tag": "ABX9TyNqXaf4qFleHVmVLvC/yfiV",
      "include_colab_link": true
    },
    "kernelspec": {
      "name": "python3",
      "display_name": "Python 3"
    },
    "language_info": {
      "name": "python"
    }
  },
  "cells": [
    {
      "cell_type": "markdown",
      "metadata": {
        "id": "view-in-github",
        "colab_type": "text"
      },
      "source": [
        "<a href=\"https://colab.research.google.com/github/MadhavReddy2213/UNP_assignmet/blob/main/ASSIGNMENT_2.ipynb\" target=\"_parent\"><img src=\"https://colab.research.google.com/assets/colab-badge.svg\" alt=\"Open In Colab\"/></a>"
      ]
    },
    {
      "cell_type": "markdown",
      "source": [
        "Write a small program to check a number is divisible by 7 or not"
      ],
      "metadata": {
        "id": "m0Obunje5J5k"
      }
    },
    {
      "cell_type": "code",
      "source": [
        "a=int(input(\"Enter a number:\"))\n",
        "if(a%7 ==0):\n",
        "  print(a,\"is divisible by 7\")\n",
        "else:\n",
        "  print(a,\"is not divisible by 7\")"
      ],
      "metadata": {
        "colab": {
          "base_uri": "https://localhost:8080/"
        },
        "id": "hKLkXXlK5O1z",
        "outputId": "81f97c27-25fa-474d-f323-4da9791c24fe"
      },
      "execution_count": null,
      "outputs": [
        {
          "output_type": "stream",
          "name": "stdout",
          "text": [
            "Enter a number:11\n",
            "11 is not divisible by 7\n"
          ]
        }
      ]
    },
    {
      "cell_type": "markdown",
      "source": [
        "If a number is divisible by either 5 or 7, then we will call it a 'five-or-seven' number.\n",
        "Write down a program to check if a number is 'five-or-seven' number or not."
      ],
      "metadata": {
        "id": "qFKlKmQw5XIT"
      }
    },
    {
      "cell_type": "code",
      "source": [
        "num=int(input(\"Enter a number:\"))\n",
        "if((num%5==0) or (num%7==0)):\n",
        "  print(\"its a five-or-seven number\")\n",
        "else:\n",
        "  print(\"its not a five-or-seven number\")"
      ],
      "metadata": {
        "colab": {
          "base_uri": "https://localhost:8080/"
        },
        "id": "f_xaSPwf5Z6r",
        "outputId": "7af7e06a-9c46-4336-b967-120593a5fb54"
      },
      "execution_count": null,
      "outputs": [
        {
          "output_type": "stream",
          "name": "stdout",
          "text": [
            "Enter a number:22\n",
            "its not a five-or-seven number\n"
          ]
        }
      ]
    },
    {
      "cell_type": "markdown",
      "source": [
        "Write a program to calculate the electricity bill (accept number of unit from user) according to the following criteria:\n",
        "\n",
        "Upto first 100 units Rs. 3 per unit.\n",
        "Next 100 units Rs. 5 per unit.\n",
        "Next 300 units Rs. 7 per unit.\n",
        "Above that, for each unit exceeding 500, Rs. 10 per unit flat."
      ],
      "metadata": {
        "id": "6aMI_07f5gDf"
      }
    },
    {
      "cell_type": "code",
      "source": [
        "unit=250\n",
        "if(unit<=100):\n",
        "  print(unit*3)\n",
        "elif(unit<200):\n",
        "  print(unit*5)\n",
        "elif(unit<500):\n",
        "  print(unit*7)\n",
        "else:\n",
        "  print(unit*10)"
      ],
      "metadata": {
        "colab": {
          "base_uri": "https://localhost:8080/"
        },
        "id": "D4vj3NcN5jA-",
        "outputId": "27490346-fcac-4172-a0ec-6adcb854c7d5"
      },
      "execution_count": null,
      "outputs": [
        {
          "output_type": "stream",
          "name": "stdout",
          "text": [
            "1750\n"
          ]
        }
      ]
    },
    {
      "cell_type": "markdown",
      "source": [
        "Find out sum of square of all the numbers upto 10, starting from 1"
      ],
      "metadata": {
        "id": "JYtv-AkP5qS0"
      }
    },
    {
      "cell_type": "code",
      "source": [
        "num=10\n",
        "sum=0\n",
        "while num>0:\n",
        "  sum=sum+(num*num)\n",
        "  num=num-1\n",
        "print(sum)"
      ],
      "metadata": {
        "colab": {
          "base_uri": "https://localhost:8080/"
        },
        "id": "Nm9ZSH8X5tJr",
        "outputId": "c0197a38-0b78-4524-a7ea-7bc020c31c9e"
      },
      "execution_count": null,
      "outputs": [
        {
          "output_type": "stream",
          "name": "stdout",
          "text": [
            "385\n"
          ]
        }
      ]
    },
    {
      "cell_type": "markdown",
      "source": [
        "Find out sum of square of all the even numbers upto 10, starting from 1"
      ],
      "metadata": {
        "id": "2Max8lAe5w59"
      }
    },
    {
      "cell_type": "code",
      "source": [
        "sum=0\n",
        "\n",
        "for num in range(1,11):\n",
        "  if(num%2==0):\n",
        "    sum=sum+(num*num)\n",
        "\n",
        "print(sum)"
      ],
      "metadata": {
        "colab": {
          "base_uri": "https://localhost:8080/"
        },
        "id": "9Pzh4Cb256Vo",
        "outputId": "f91200ae-49da-40e7-d1d5-1683d4b2a2fd"
      },
      "execution_count": null,
      "outputs": [
        {
          "output_type": "stream",
          "name": "stdout",
          "text": [
            "220\n"
          ]
        }
      ]
    },
    {
      "cell_type": "markdown",
      "source": [
        "Check a number is prime or not"
      ],
      "metadata": {
        "id": "IJ7CBs6D5-Wk"
      }
    },
    {
      "cell_type": "code",
      "source": [
        "num = int(input(\"enter a number:\"))\n",
        "if num > 1:\n",
        "    for i in range(2, int(num/2)+1):\n",
        "        if (num % i) == 0:\n",
        "            print(num, \"is not a prime number\")\n",
        "            break\n",
        "    else:\n",
        "        print(num, \"is a prime number\")"
      ],
      "metadata": {
        "colab": {
          "base_uri": "https://localhost:8080/"
        },
        "id": "vF8iugR95_Rm",
        "outputId": "abd9d309-d085-423b-d388-e3e09fc6f091"
      },
      "execution_count": null,
      "outputs": [
        {
          "output_type": "stream",
          "name": "stdout",
          "text": [
            "enter a number:22\n",
            "22 is not a prime number\n"
          ]
        }
      ]
    },
    {
      "cell_type": "markdown",
      "source": [
        "Print multiplication table upto 10 starting from 1"
      ],
      "metadata": {
        "id": "136_oeqQ6EbD"
      }
    },
    {
      "cell_type": "code",
      "source": [
        "for num in range(1,11):\n",
        "  for i in range(1,11):\n",
        "     print(num,\"*\",i,\"=\",num*1)"
      ],
      "metadata": {
        "colab": {
          "base_uri": "https://localhost:8080/"
        },
        "id": "JFd5wd506IEC",
        "outputId": "70395364-48f8-4442-b8bb-2e4c995701ae"
      },
      "execution_count": null,
      "outputs": [
        {
          "output_type": "stream",
          "name": "stdout",
          "text": [
            "1 * 1 = 1\n",
            "1 * 2 = 1\n",
            "1 * 3 = 1\n",
            "1 * 4 = 1\n",
            "1 * 5 = 1\n",
            "1 * 6 = 1\n",
            "1 * 7 = 1\n",
            "1 * 8 = 1\n",
            "1 * 9 = 1\n",
            "1 * 10 = 1\n",
            "2 * 1 = 2\n",
            "2 * 2 = 2\n",
            "2 * 3 = 2\n",
            "2 * 4 = 2\n",
            "2 * 5 = 2\n",
            "2 * 6 = 2\n",
            "2 * 7 = 2\n",
            "2 * 8 = 2\n",
            "2 * 9 = 2\n",
            "2 * 10 = 2\n",
            "3 * 1 = 3\n",
            "3 * 2 = 3\n",
            "3 * 3 = 3\n",
            "3 * 4 = 3\n",
            "3 * 5 = 3\n",
            "3 * 6 = 3\n",
            "3 * 7 = 3\n",
            "3 * 8 = 3\n",
            "3 * 9 = 3\n",
            "3 * 10 = 3\n",
            "4 * 1 = 4\n",
            "4 * 2 = 4\n",
            "4 * 3 = 4\n",
            "4 * 4 = 4\n",
            "4 * 5 = 4\n",
            "4 * 6 = 4\n",
            "4 * 7 = 4\n",
            "4 * 8 = 4\n",
            "4 * 9 = 4\n",
            "4 * 10 = 4\n",
            "5 * 1 = 5\n",
            "5 * 2 = 5\n",
            "5 * 3 = 5\n",
            "5 * 4 = 5\n",
            "5 * 5 = 5\n",
            "5 * 6 = 5\n",
            "5 * 7 = 5\n",
            "5 * 8 = 5\n",
            "5 * 9 = 5\n",
            "5 * 10 = 5\n",
            "6 * 1 = 6\n",
            "6 * 2 = 6\n",
            "6 * 3 = 6\n",
            "6 * 4 = 6\n",
            "6 * 5 = 6\n",
            "6 * 6 = 6\n",
            "6 * 7 = 6\n",
            "6 * 8 = 6\n",
            "6 * 9 = 6\n",
            "6 * 10 = 6\n",
            "7 * 1 = 7\n",
            "7 * 2 = 7\n",
            "7 * 3 = 7\n",
            "7 * 4 = 7\n",
            "7 * 5 = 7\n",
            "7 * 6 = 7\n",
            "7 * 7 = 7\n",
            "7 * 8 = 7\n",
            "7 * 9 = 7\n",
            "7 * 10 = 7\n",
            "8 * 1 = 8\n",
            "8 * 2 = 8\n",
            "8 * 3 = 8\n",
            "8 * 4 = 8\n",
            "8 * 5 = 8\n",
            "8 * 6 = 8\n",
            "8 * 7 = 8\n",
            "8 * 8 = 8\n",
            "8 * 9 = 8\n",
            "8 * 10 = 8\n",
            "9 * 1 = 9\n",
            "9 * 2 = 9\n",
            "9 * 3 = 9\n",
            "9 * 4 = 9\n",
            "9 * 5 = 9\n",
            "9 * 6 = 9\n",
            "9 * 7 = 9\n",
            "9 * 8 = 9\n",
            "9 * 9 = 9\n",
            "9 * 10 = 9\n",
            "10 * 1 = 10\n",
            "10 * 2 = 10\n",
            "10 * 3 = 10\n",
            "10 * 4 = 10\n",
            "10 * 5 = 10\n",
            "10 * 6 = 10\n",
            "10 * 7 = 10\n",
            "10 * 8 = 10\n",
            "10 * 9 = 10\n",
            "10 * 10 = 10\n"
          ]
        }
      ]
    },
    {
      "cell_type": "markdown",
      "source": [
        "Print the series of first n fibonacci numbers"
      ],
      "metadata": {
        "id": "MqoPCD3Z6NYD"
      }
    },
    {
      "cell_type": "code",
      "source": [
        "n=int(input(\"enter a number:\"))\n",
        "a=0\n",
        "b=1\n",
        "for i in range(0,n):\n",
        "  c=a+b\n",
        "  a=b\n",
        "  b=c\n",
        "  print(c)"
      ],
      "metadata": {
        "colab": {
          "base_uri": "https://localhost:8080/"
        },
        "id": "Iz_r7o_l6SR0",
        "outputId": "fabfff65-f577-4fb9-d813-d13eb6eb89dc"
      },
      "execution_count": null,
      "outputs": [
        {
          "output_type": "stream",
          "name": "stdout",
          "text": [
            "enter a number:50\n",
            "1\n",
            "2\n",
            "3\n",
            "5\n",
            "8\n",
            "13\n",
            "21\n",
            "34\n",
            "55\n",
            "89\n",
            "144\n",
            "233\n",
            "377\n",
            "610\n",
            "987\n",
            "1597\n",
            "2584\n",
            "4181\n",
            "6765\n",
            "10946\n",
            "17711\n",
            "28657\n",
            "46368\n",
            "75025\n",
            "121393\n",
            "196418\n",
            "317811\n",
            "514229\n",
            "832040\n",
            "1346269\n",
            "2178309\n",
            "3524578\n",
            "5702887\n",
            "9227465\n",
            "14930352\n",
            "24157817\n",
            "39088169\n",
            "63245986\n",
            "102334155\n",
            "165580141\n",
            "267914296\n",
            "433494437\n",
            "701408733\n",
            "1134903170\n",
            "1836311903\n",
            "2971215073\n",
            "4807526976\n",
            "7778742049\n",
            "12586269025\n",
            "20365011074\n"
          ]
        }
      ]
    }
  ]
}